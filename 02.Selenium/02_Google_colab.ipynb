{
  "nbformat": 4,
  "nbformat_minor": 0,
  "metadata": {
    "colab": {
      "name": "02_Google_colab.ipynb",
      "provenance": []
    },
    "kernelspec": {
      "name": "python3",
      "display_name": "Python 3"
    },
    "language_info": {
      "name": "python"
    }
  },
  "cells": [
    {
      "cell_type": "code",
      "execution_count": 1,
      "metadata": {
        "id": "HY92BNM3EI69"
      },
      "outputs": [],
      "source": [
        "!apt-get update > /dev/null 2>&1\n",
        "!pip install selenium > /dev/null 2>&1\n",
        "!apt install chromium-chromedriver > /dev/null 2>&1"
      ]
    },
    {
      "cell_type": "code",
      "source": [
        "import time\n",
        "from selenium import webdriver\n",
        "from selenium.webdriver.common.keys import Keys\n",
        "from selenium.webdriver.common.by import By"
      ],
      "metadata": {
        "id": "zhtsQbvKIn3s"
      },
      "execution_count": 13,
      "outputs": []
    },
    {
      "cell_type": "code",
      "source": [
        "options = webdriver.ChromeOptions()\n",
        "options.add_argument('--headless')   # 화면없이 실행\n",
        "options.add_argument('--no-sandbox')\n",
        "options.add_argument(\"--single-process\")\n",
        "options.add_argument(\"--disable-dev-shm-usage\")\n",
        "driver = webdriver.Chrome('chromedriver', options=options)"
      ],
      "metadata": {
        "id": "91lG_BdeFCAh"
      },
      "execution_count": 9,
      "outputs": []
    },
    {
      "cell_type": "code",
      "source": [
        "url = 'https://www.google.co.kr/'\n",
        "driver.get(url)"
      ],
      "metadata": {
        "id": "_tnPDmeaJQhA"
      },
      "execution_count": 10,
      "outputs": []
    },
    {
      "cell_type": "code",
      "source": [
        "search_box = driver.find_element(by=By.NAME, value='q')\n",
        "search_box.send_keys('ChromeDriver')\n",
        "search_box.send_keys(Keys.ENTER)\n",
        "time.sleep(2)"
      ],
      "metadata": {
        "id": "_5iqAE0dLF7M"
      },
      "execution_count": 15,
      "outputs": []
    },
    {
      "cell_type": "code",
      "source": [
        "divs = driver.find_elements(By.CSS_SELECTOR, '#search .g')\n",
        "len(divs)\n"
      ],
      "metadata": {
        "colab": {
          "base_uri": "https://localhost:8080/"
        },
        "id": "e-BPMApVNuFE",
        "outputId": "fa5b4013-d2c3-4586-e485-0446b3cec3ec"
      },
      "execution_count": 50,
      "outputs": [
        {
          "output_type": "execute_result",
          "data": {
            "text/plain": [
              "11"
            ]
          },
          "metadata": {},
          "execution_count": 50
        }
      ]
    },
    {
      "cell_type": "code",
      "source": [
        "div = divs[0]\n",
        "title = div.find_element(By.CSS_SELECTOR, '.LC20lb.MBeuO.DKV0Md').text.strip()\n",
        "title"
      ],
      "metadata": {
        "colab": {
          "base_uri": "https://localhost:8080/",
          "height": 36
        },
        "id": "Nw_QKEfdOtCG",
        "outputId": "91cf02fc-2a52-4e00-a7da-052c1c74e4d5"
      },
      "execution_count": 37,
      "outputs": [
        {
          "output_type": "execute_result",
          "data": {
            "text/plain": [
              "'ChromeDriver - WebDriver for Chrome'"
            ],
            "application/vnd.google.colaboratory.intrinsic+json": {
              "type": "string"
            }
          },
          "metadata": {},
          "execution_count": 37
        }
      ]
    },
    {
      "cell_type": "code",
      "source": [
        "content = div.find_element(By.CSS_SELECTOR, '.VwiC3b.yXK7lf.MUxGbd.yDYNvb').text.strip()\n",
        "content"
      ],
      "metadata": {
        "colab": {
          "base_uri": "https://localhost:8080/",
          "height": 55
        },
        "id": "pm_OXCkiQeaP",
        "outputId": "b1001801-c66d-43a9-baea-a629e8108719"
      },
      "execution_count": 40,
      "outputs": [
        {
          "output_type": "execute_result",
          "data": {
            "text/plain": [
              "'ChromeDriver · WebDriver is an open source tool for automated testing of webapps across many browsers. It provides capabilities for navigating to web pages, user ...'"
            ],
            "application/vnd.google.colaboratory.intrinsic+json": {
              "type": "string"
            }
          },
          "metadata": {},
          "execution_count": 40
        }
      ]
    },
    {
      "cell_type": "code",
      "source": [
        "lines = []\n",
        "for div in divs:\n",
        "    try:\n",
        "        title = div.find_element(By.CSS_SELECTOR, '.LC20lb.MBeuO.DKV0Md').text\n",
        "        content = div.find_element(By.CSS_SELECTOR, '.VwiC3b.yXK7lf.MUxGbd').text\n",
        "    except:\n",
        "        continue\n",
        "    lines.append([title, content])\n",
        "\n",
        "lines"
      ],
      "metadata": {
        "colab": {
          "base_uri": "https://localhost:8080/"
        },
        "id": "j1LZBNmxRwa4",
        "outputId": "b19844bb-90fe-430e-9bf2-990c281461ea"
      },
      "execution_count": 54,
      "outputs": [
        {
          "output_type": "execute_result",
          "data": {
            "text/plain": [
              "[['ChromeDriver - WebDriver for Chrome',\n",
              "  'ChromeDriver · WebDriver is an open source tool for automated testing of webapps across many browsers. It provides capabilities for navigating to web pages, user ...'],\n",
              " ['ChromeDriver - WebDriver for Chrome',\n",
              "  'ChromeDriver · WebDriver is an open source tool for automated testing of webapps across many browsers. It provides capabilities for navigating to web pages, user ...'],\n",
              " ['Downloads - ChromeDriver - WebDriver for Chrome',\n",
              "  'If you are using Chrome version 94, please download ChromeDriver 94.0.4606.41; If you are using Chrome version 93, please download ChromeDriver 93.0.4577.63 ...'],\n",
              " ['Install browser drivers - Selenium',\n",
              "  'Through WebDriver, Selenium supports all major browsers on the market such as Chrome/Chromium, Firefox, Internet Explorer, Edge, Opera, and Safari.'],\n",
              " ['How to Install Chrome Driver on Mac - Software Test Academy',\n",
              "  'May 18, 2021 — Step1: Download Chrome Driver. You need to go to the below address and download the chrome driver for Mac operating system based on (M1 or Intel ...'],\n",
              " ['How to run Selenium tests on Chrome using ChromeDriver',\n",
              "  \"May 9, 2021 — This article will explain how one can perform Selenium tests on a Chrome browser using ChromeDriver. But before that, let's understand what ...\"],\n",
              " ['ChromeDriver · SeleniumHQ/selenium Wiki - GitHub',\n",
              "  'Dec 26, 2021 — A browser automation framework and ecosystem. Contribute to SeleniumHQ/selenium development by creating an account on GitHub.']]"
            ]
          },
          "metadata": {},
          "execution_count": 54
        }
      ]
    },
    {
      "cell_type": "code",
      "source": [
        "import pandas as pd\n",
        "\n",
        "df = pd.DataFrame(lines, columns=['title','content'])\n",
        "df\n",
        "\n",
        "df.to_csv('Google_selenium(20220809).csv')"
      ],
      "metadata": {
        "id": "qLLyzk_UTfxe"
      },
      "execution_count": 56,
      "outputs": []
    }
  ]
}